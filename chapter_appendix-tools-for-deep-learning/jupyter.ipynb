{
  "cells": [
    {
      "cell_type": "markdown",
      "id": "31d9a4c9",
      "metadata": {
        "origin_pos": 0,
        "id": "31d9a4c9"
      },
      "source": [
        "# Using Jupyter Notebooks\n",
        ":label:`sec_jupyter`\n",
        "\n",
        "\n",
        "This section describes how to edit and run the code\n",
        "in each section of this book\n",
        "using the Jupyter Notebook. Make sure you have\n",
        "installed Jupyter and downloaded the\n",
        "code as described in\n",
        ":ref:`chap_installation`.\n",
        "If you want to know more about Jupyter see the excellent tutorial in\n",
        "their [documentation](https://jupyter.readthedocs.io/en/latest/).\n",
        "\n",
        "\n",
        "## Editing and Running the Code Locally\n",
        "\n",
        "Suppose that the local path of the book's code is `xx/yy/d2l-en/`. Use the shell to change the directory to this path (`cd xx/yy/d2l-en`) and run the command `jupyter notebook`. If your browser does not do this automatically, open http://localhost:8888 and you will see the interface of Jupyter and all the folders containing the code of the book, as shown in :numref:`fig_jupyter00`.\n",
        "\n",
        "![The folders containing the code of this book.](https://github.com/d2l-ai/d2l-en-colab/blob/master/img/jupyter00.png?raw=1)\n",
        ":width:`600px`\n",
        ":label:`fig_jupyter00`\n",
        "\n",
        "\n",
        "You can access the notebook files by clicking on the folder displayed on the webpage.\n",
        "They usually have the suffix \".ipynb\".\n",
        "For the sake of brevity, we create a temporary \"test.ipynb\" file.\n",
        "The content displayed after you click it is\n",
        "shown in :numref:`fig_jupyter01`.\n",
        "This notebook includes a markdown cell and a code cell. The content in the markdown cell includes \"This Is a Title\" and \"This is text.\".\n",
        "The code cell contains two lines of Python code.\n",
        "\n",
        "![Markdown and code cells in the \"text.ipynb\" file.](https://github.com/d2l-ai/d2l-en-colab/blob/master/img/jupyter01.png?raw=1)\n",
        ":width:`600px`\n",
        ":label:`fig_jupyter01`\n",
        "\n",
        "\n",
        "Double click on the markdown cell to enter edit mode.\n",
        "Add a new text string \"Hello world.\" at the end of the cell, as shown in :numref:`fig_jupyter02`.\n",
        "\n",
        "![Edit the markdown cell.](https://github.com/d2l-ai/d2l-en-colab/blob/master/img/jupyter02.png?raw=1)\n",
        ":width:`600px`\n",
        ":label:`fig_jupyter02`\n",
        "\n",
        "\n",
        "As demonstrated in :numref:`fig_jupyter03`,\n",
        "click \"Cell\" $\\rightarrow$ \"Run Cells\" in the menu bar to run the edited cell.\n",
        "\n",
        "![Run the cell.](https://github.com/d2l-ai/d2l-en-colab/blob/master/img/jupyter03.png?raw=1)\n",
        ":width:`600px`\n",
        ":label:`fig_jupyter03`\n",
        "\n",
        "After running, the markdown cell is shown in :numref:`fig_jupyter04`.\n",
        "\n",
        "![The markdown cell after running.](https://github.com/d2l-ai/d2l-en-colab/blob/master/img/jupyter04.png?raw=1)\n",
        ":width:`600px`\n",
        ":label:`fig_jupyter04`\n",
        "\n",
        "\n",
        "Next, click on the code cell. Multiply the elements by 2 after the last line of code, as shown in :numref:`fig_jupyter05`.\n",
        "\n",
        "![Edit the code cell.](https://github.com/d2l-ai/d2l-en-colab/blob/master/img/jupyter05.png?raw=1)\n",
        ":width:`600px`\n",
        ":label:`fig_jupyter05`\n",
        "\n",
        "\n",
        "You can also run the cell with a shortcut (\"Ctrl + Enter\" by default) and obtain the output result from :numref:`fig_jupyter06`.\n",
        "\n",
        "![Run the code cell to obtain the output.](https://github.com/d2l-ai/d2l-en-colab/blob/master/img/jupyter06.png?raw=1)\n",
        ":width:`600px`\n",
        ":label:`fig_jupyter06`\n",
        "\n",
        "\n",
        "When a notebook contains more cells, we can click \"Kernel\" $\\rightarrow$ \"Restart & Run All\" in the menu bar to run all the cells in the entire notebook. By clicking \"Help\" $\\rightarrow$ \"Edit Keyboard Shortcuts\" in the menu bar, you can edit the shortcuts according to your preferences.\n",
        "\n",
        "## Advanced Options\n",
        "\n",
        "Beyond local editing two things are quite important: editing the notebooks in the markdown format and running Jupyter remotely.\n",
        "The latter matters when we want to run the code on a faster server.\n",
        "The former matters since Jupyter's native ipynb format stores a lot of auxiliary data that is\n",
        "irrelevant to the content,\n",
        "mostly related to how and where the code is run.\n",
        "This is confusing for Git, making\n",
        "reviewing contributions very difficult.\n",
        "Fortunately there is an alternative---native editing in the markdown format.\n",
        "\n",
        "### Markdown Files in Jupyter\n",
        "\n",
        "If you wish to contribute to the content of this book, you need to modify the\n",
        "source file (md file, not ipynb file) on GitHub.\n",
        "Using the notedown plugin we\n",
        "can modify notebooks in the md format directly in Jupyter.\n",
        "\n",
        "\n",
        "First, install the notedown plugin, run the Jupyter Notebook, and load the plugin:\n",
        "\n",
        "```\n",
        "pip install d2l-notedown  # You may need to uninstall the original notedown.\n",
        "jupyter notebook --NotebookApp.contents_manager_class='notedown.NotedownContentsManager'\n",
        "```\n",
        "\n",
        "You may also turn on the notedown plugin by default whenever you run the Jupyter Notebook.\n",
        "First, generate a Jupyter Notebook configuration file (if it has already been generated, you can skip this step).\n",
        "\n",
        "```\n",
        "jupyter notebook --generate-config\n",
        "```\n",
        "\n",
        "Then, add the following line to the end of the Jupyter Notebook configuration file (for Linux or macOS, usually in the path `~/.jupyter/jupyter_notebook_config.py`):\n",
        "\n",
        "```\n",
        "c.NotebookApp.contents_manager_class = 'notedown.NotedownContentsManager'\n",
        "```\n",
        "\n",
        "After that, you only need to run the `jupyter notebook` command to turn on the notedown plugin by default.\n",
        "\n",
        "### Running Jupyter Notebooks on a Remote Server\n",
        "\n",
        "Sometimes, you may want to run Jupyter notebooks on a remote server and access it through a browser on your local computer. If Linux or macOS is installed on your local machine (Windows can also support this function through third-party software such as PuTTY), you can use port forwarding:\n",
        "\n",
        "```\n",
        "ssh myserver -L 8888:localhost:8888\n",
        "```\n",
        "\n",
        "The above string `myserver` is the address of the remote server.\n",
        "Then we can use http://localhost:8888 to access the remote server `myserver` that runs Jupyter notebooks. We will detail on how to run Jupyter notebooks on AWS instances\n",
        "later in this appendix.\n",
        "\n",
        "### Timing\n",
        "\n",
        "We can use the `ExecuteTime` plugin to time the execution of each code cell in Jupyter notebooks.\n",
        "Use the following commands to install the plugin:\n",
        "\n",
        "```\n",
        "pip install jupyter_contrib_nbextensions\n",
        "jupyter contrib nbextension install --user\n",
        "jupyter nbextension enable execute_time/ExecuteTime\n",
        "```\n",
        "\n",
        "## Summary\n",
        "\n",
        "* Using the Jupyter Notebook tool, we can edit, run, and contribute to each section of the book.\n",
        "* We can run Jupyter notebooks on remote servers using port forwarding.\n",
        "\n",
        "\n",
        "## Exercises\n",
        "\n",
        "1. Edit and run the code in this book with the Jupyter Notebook on your local machine.\n",
        "1. Edit and run the code in this book with the Jupyter Notebook *remotely* via port forwarding.\n",
        "1. Compare the running time of the operations $\\mathbf{A}^\\top \\mathbf{B}$ and $\\mathbf{A} \\mathbf{B}$ for two square matrices in $\\mathbb{R}^{1024 \\times 1024}$. Which one is faster?\n",
        "\n",
        "\n",
        "[Discussions](https://discuss.d2l.ai/t/421)\n"
      ]
    },
    {
      "cell_type": "code",
      "source": [
        "# In[1]:\n",
        "\n",
        "\n",
        "print(\"its year 2125. the Operation Ironhand, a secret US research lab is developing a zombie potion, a chemical that turns humans into zombies.\")\n",
        "\n",
        "\n",
        "\n"
      ],
      "metadata": {
        "id": "18LORgTSk_e4",
        "outputId": "f84302f1-07c2-48fe-a30a-a047b02b6004",
        "colab": {
          "base_uri": "https://localhost:8080/"
        }
      },
      "id": "18LORgTSk_e4",
      "execution_count": 2,
      "outputs": [
        {
          "output_type": "stream",
          "name": "stdout",
          "text": [
            "its year 2125. the Operation Ironhand, a secret US research lab is developing a zombie potion, a chemical that turns humans into zombies.\n"
          ]
        }
      ]
    },
    {
      "cell_type": "code",
      "source": [
        "# In[4]:\n",
        "\n",
        "\n",
        "print(\"This has resulted in a zombie apocalypse all across America.\")\n",
        "\n",
        "\n",
        "\n",
        "\n"
      ],
      "metadata": {
        "id": "Wog4dFcIl9Qr",
        "outputId": "5737b39a-28c1-4cc6-d734-5d58ada59687",
        "colab": {
          "base_uri": "https://localhost:8080/"
        }
      },
      "id": "Wog4dFcIl9Qr",
      "execution_count": 3,
      "outputs": [
        {
          "output_type": "stream",
          "name": "stdout",
          "text": [
            "This has resulted in a zombie apocalypse all across America.\n"
          ]
        }
      ]
    },
    {
      "cell_type": "code",
      "source": [
        "# In[5]:\n",
        "\n",
        "\n",
        "print(\"At UW Madison, most of the students have been turned into zombies. Harris, a 2nd year student in MS Information is hiding at the Capitol building\")\n",
        "\n",
        "\n"
      ],
      "metadata": {
        "id": "gu2J3yvumANf",
        "outputId": "ef4abdcf-6674-4bc5-9469-eab43ab74d04",
        "colab": {
          "base_uri": "https://localhost:8080/"
        }
      },
      "id": "gu2J3yvumANf",
      "execution_count": 4,
      "outputs": [
        {
          "output_type": "stream",
          "name": "stdout",
          "text": [
            "At UW Madison, most of the students have been turned into zombies. Harris, a 2nd year student in MS Information is hiding at the Capitol building\n"
          ]
        }
      ]
    },
    {
      "cell_type": "code",
      "source": [
        "# In[6]:\n",
        "\n",
        "\n",
        "print(\"He desperately needs to get to Bascom hall - the only building on campus which is invincible from zombie invasion. Its january and peak Madison winter with a -30 windchill. He needs to figure out a way to get to Bascom hall as quick as possible.\")\n",
        "\n",
        "\n"
      ],
      "metadata": {
        "id": "o5e0-9ulmKXO",
        "outputId": "b46a9eba-e115-428c-ab52-fe0fccd846e2",
        "colab": {
          "base_uri": "https://localhost:8080/"
        }
      },
      "id": "o5e0-9ulmKXO",
      "execution_count": 5,
      "outputs": [
        {
          "output_type": "stream",
          "name": "stdout",
          "text": [
            "He desperately needs to get to Bascom hall - the only building on campus which is invincible from zombie invasion. Its january and peak Madison winter with a -30 windchill. He needs to figure out a way to get to Bascom hall as quick as possible.\n"
          ]
        }
      ]
    },
    {
      "cell_type": "code",
      "source": [
        "# In[7]:\n",
        "\n",
        "\n",
        "print(\"Which route should he choose?\")\n",
        "\n",
        "\n"
      ],
      "metadata": {
        "id": "vPPMkcUwmNAI",
        "outputId": "b81f139b-4e14-4bda-dab8-a8c630367e68",
        "colab": {
          "base_uri": "https://localhost:8080/"
        }
      },
      "id": "vPPMkcUwmNAI",
      "execution_count": 7,
      "outputs": [
        {
          "output_type": "stream",
          "name": "stdout",
          "text": [
            "Which route should he choose?\n"
          ]
        }
      ]
    },
    {
      "cell_type": "code",
      "source": [
        "# In[8]:\n",
        "\n",
        "\n",
        "print(\"There are 3 routes possible - 1) State St - the shortest way but has the most zombies.\")\n",
        "\n",
        "\n",
        "# In[9]:\n",
        "\n",
        "\n",
        "print(\"2) Gorham Street - a longer route but is covered in 3ft of snow. The snow makes it physically impossible to walk\")\n",
        "\n",
        "\n",
        "# In[10]:\n",
        "\n",
        "\n",
        "print(\"3) Johnson Street - it has a series of underground tunnels - one of which goes straight towards Bascom hall.\")\n",
        "\n",
        "\n"
      ],
      "metadata": {
        "id": "ne75WMTUmPbX",
        "outputId": "c4040298-6822-4562-fd2a-ce305c9752a8",
        "colab": {
          "base_uri": "https://localhost:8080/"
        }
      },
      "id": "ne75WMTUmPbX",
      "execution_count": 8,
      "outputs": [
        {
          "output_type": "stream",
          "name": "stdout",
          "text": [
            "There are 3 routes possible - 1) State St - the shortest way but has the most zombies.\n",
            "2) Gorham Street - a longer route but is covered in 3ft of snow. The snow makes it physically impossible to walk\n",
            "3) Johnson Street - it has a series of underground tunnels - one of which goes straight towards Bascom hall.\n"
          ]
        }
      ]
    },
    {
      "cell_type": "code",
      "source": [
        "# In[11]:\n",
        "\n",
        "\n",
        "print(\"press 1 to choose State street. Press 2 to choose Gorham Street. Press 3 to choose Johnson Street\")\n",
        "\n",
        "\n",
        "# In[12]:\n",
        "\n",
        "\n",
        "route = int(input(\"choose a route.  : \"))\n",
        "\n",
        "if(route==1):\n",
        "  print(\"Harris chose State Street! Its filled with zombies, how is he gonna survive?!\")\n",
        "  print(\"........\")\n",
        "  print(\"And thus, Harris begins his walk, he dreads every sound and is extremely alert. He needs to get to his destination quick. If only he had something to help him out....\")\n",
        "  print(\"Oh wait, whats that thing on the ground?! Oh thats a mystery box! Wow, I wonder what pandora's box are we opening!\")\n",
        "  print(\"Harris picks up the mystery box. Inside it, there's a gold plated inscription which reads - Choose a number from 1 to 3, if you're lucky, you may finally be free\")\n",
        "  boxinput1 = int(input(\"Enter a number between 1 to 3 : \"))\n",
        "  if(boxinput1 ==1):\n",
        "    print(\"Harris chooses number 1. And suddenly, the box disappears and a single piece of item comes flying towards him. He catches it and takes a look... its an alarm clock!\")\n",
        "    print(\"And suddenly, the alarm clock begins to ring violently. And before he even had the time to react, a dozen zombies dash towards him, triggered by the sounds. \")\n",
        "    print(\"Unfortunately for Harris, he has no means to defend himself. He gasps his last breathe, muttering to himself about how different things would be had he made different choices in life...\")\n",
        "  if(boxinput1 ==2):\n",
        "    print(\"Harris chooses number 2. And suddenly, the box disappears and a single piece of item comes flying towards him. He catches it and takes a look... Its a jetpack!\")\n",
        "    print(\"Harris wastes no time and quickly straps the jetpack to himself. He presses the little blue button at the side and off he goes... into the air and away from the zombies!\")\n",
        "    print(\"As he looks below onto the city, he sees the hungry zombies prowling and ruling the desolate lifeless streets. He thinks about how all these zombies were once living humans who had families and happy lives before it got all taken away\")\n",
        "    print(\"As he moves forward, he sees the coveted Bascom Hall, in all its glory when suddenly WHAMMMM - he reaches the base of the hill. He can't go any further\")\n",
        "    print(\"Oh, another mystery box - he sees. Its a different one though, its shaped like a bus, he wonders.\")\n",
        "    print(\"Welcome Harris, you have almost reached your destination. Now, you just need a bus ride to Bascom Hall. You have 2 options - Route 80 and Route 81. Choice is yours\")\n",
        "    busroute = int(input(\"Choose bus route : Enter 80 or 81\"))\n",
        "    if(busroute==80):\n",
        "      print(\"Harris chose route 80! Thats the bus that goes to Eagle Heights via Bascom Hall!\")\n",
        "      print(\"..........\")\n",
        "      print(\"Harris breathes a sigh of relief and gets onto the bus, each footstep resonating with victory. He reaches Bascom Hall safely and as he opens the doors to freedom,he finally realizes what it really feels to be alive. \")\n",
        "    if(busroute==81):\n",
        "      print(\"Harris chose route 81! Thats the bus that goes back to the Capitol building, Harris gasps in shock!\")\n",
        "      print(\"And as the bus approaches him, he realizes the people inside are infact zombies. Before he even reacts, he gets pulled into the bus and thus, gasps his last breath, muttering to himself how different life would have been had he made different choices in life.\")\n",
        "  if(boxinput1==3):\n",
        "    print(\"Harris chooses number 3. And suddenly, the box disappears and a single piece of item comes flying towards him. He catches it and takes a look... its a gun!\")\n",
        "    print(\"The gun is not an ordinary gun but a \")\n",
        "\n",
        "\n",
        "\n",
        "\n",
        "  if(route==2):\n",
        "    print(\"Harris chose Gorham Street!I wonder how is he gonna walk in all that snow?!\")\n",
        "    print(\"...........\")\n",
        "    print(\"Before he could even begin his walk, he noticed a shiny brown box lying under the snowy sidewalk. Its a mystery box!\")\n",
        "    print(\"He opens the box and sees a gold plated enscription on it - Choose a number from 1 to 3, if you get lucky, you're gonna thank me! \")\n",
        "    boxinput2 = int(input(\"Enter a number between 1 to 3 : \"))\n",
        "    if(boxinput2 == 1):\n",
        "      print(\"Harris chose number 1. And suddenly, the box disappears into the snow and a single piece of item comes flying towards him. He catches it and takes a look.... its an SPF50 Sunscreen!\")\n",
        "      print(\"Useless, he mutters. A sunscreen during winter? That too a midwestern winter?! There's no use of this item, he exclaims!\")\n",
        "      print(\"And before he could even react, he gets surrounded by ravenous zombies, craving for their 2pm lunch\")\n",
        "      print(\".... And thus Harris breathes his last, thinking about how different life wold have been had me made different choices in life..\")\n",
        "    if(boxinput2 ==2):\n",
        "      print(\"Harris chooses number 2. And suddenly, the box disappears and a single piece of item comes flying towards him. He catches it and takes a look... its an alarm clock!\")\n",
        "      print(\"And suddenly, the alarm clock begins to ring violently. And before he even had the time to react, a dozen zombies dash towards him, triggered by the sounds. \")\n",
        "      print(\"Unfortunately for Harris, he has no means to defend himself. He gasps his last breathe, muttering to himself about how different things would be had he made different choices in life.\")\n",
        "    if(boxinput2 == 3):\n",
        "      print(\"Harris chooses number 3. And suddenly, the box disappears and a single piece of item comes flying towards him. He catches it and takes a look... its a dog sled!\")\n",
        "      print(\"He realizes its not just any other sled, its a santa claus sled!\")\n",
        "      print(\"He wastes no time and gets onto the sled. And off he goes, into the sky. His sled shining against the backdrop of the city.\")\n",
        "      print(\"And thus, he reaches directly infront of Bascom Hall. Victory has never been closer, he says.\")\n",
        "      print(\"....And thus, with a heart full of hope for this beautiful city, he heads inside Bascom Hall - having survived the worst apocalpyse mankind has ever faced... \")\n",
        "\n",
        "if(route==3):\n",
        "  print(\"Harris chose Johnson Street! Underground tunnels wait for him, he found an amazing route!\")\n",
        "\n",
        "\n"
      ],
      "metadata": {
        "id": "z0ys792qmTzY",
        "outputId": "cf0b2377-eaba-4609-af1b-92b72e14423a",
        "colab": {
          "base_uri": "https://localhost:8080/",
          "height": 106
        }
      },
      "id": "z0ys792qmTzY",
      "execution_count": 17,
      "outputs": [
        {
          "output_type": "error",
          "ename": "IndentationError",
          "evalue": "expected an indented block after 'if' statement on line 36 (ipython-input-1850430353.py, line 37)",
          "traceback": [
            "\u001b[0;36m  File \u001b[0;32m\"/tmp/ipython-input-1850430353.py\"\u001b[0;36m, line \u001b[0;32m37\u001b[0m\n\u001b[0;31m    print(\"Harris chose Gorham Street!I wonder how is he gonna walk in all that snow?!\")\u001b[0m\n\u001b[0m    ^\u001b[0m\n\u001b[0;31mIndentationError\u001b[0m\u001b[0;31m:\u001b[0m expected an indented block after 'if' statement on line 36\n"
          ]
        }
      ]
    },
    {
      "cell_type": "code",
      "source": [],
      "metadata": {
        "id": "r6Xhw7romXwm"
      },
      "id": "r6Xhw7romXwm",
      "execution_count": null,
      "outputs": []
    }
  ],
  "metadata": {
    "kernelspec": {
      "display_name": "Python 3",
      "name": "python3"
    },
    "language_info": {
      "name": "python"
    },
    "required_libs": [],
    "colab": {
      "provenance": []
    }
  },
  "nbformat": 4,
  "nbformat_minor": 5
}